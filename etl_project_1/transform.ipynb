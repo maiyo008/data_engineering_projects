{
 "cells": [
  {
   "cell_type": "markdown",
   "id": "31bf4953-d7a0-49b6-b42d-05bbd4a0951c",
   "metadata": {},
   "source": [
    "# Explore Yellow trip dataset\n"
   ]
  },
  {
   "cell_type": "code",
   "execution_count": 9,
   "id": "b286e6ca",
   "metadata": {},
   "outputs": [
    {
     "name": "stdout",
     "output_type": "stream",
     "text": [
      "/home/tony-maiyo/data_engineering_projects/etl_project_1\n",
      "/home/tony-maiyo/data_engineering_projects/etl_project_1/etl_project_1\n",
      "/home/tony-maiyo/data_engineering_projects/etl_project_1/src\n"
     ]
    }
   ],
   "source": [
    "import sys\n",
    "import os\n",
    "\n",
    "# This is the important part: get absolute path\n",
    "project_root = os.path.dirname(os.path.abspath(\"__file__\"))\n",
    "print(project_root)\n",
    "etl_project_1_path = os.path.join(project_root, \"etl_project_1\")\n",
    "print(etl_project_1_path)\n",
    "src_path = os.path.join(project_root,\"src\")\n",
    "print(src_path)\n",
    "\n",
    "# Add src/ to sys.path if not already\n",
    "if src_path not in sys.path:\n",
    "    sys.path.insert(0, src_path)\n",
    "\n"
   ]
  },
  {
   "cell_type": "code",
   "execution_count": 21,
   "id": "9de0ed5a",
   "metadata": {},
   "outputs": [
    {
     "name": "stdout",
     "output_type": "stream",
     "text": [
      "   VendorID tpep_pickup_datetime tpep_dropoff_datetime  passenger_count  \\\n",
      "0         1  2025-01-01 00:18:38   2025-01-01 00:26:59              1.0   \n",
      "1         1  2025-01-01 00:32:40   2025-01-01 00:35:13              1.0   \n",
      "2         1  2025-01-01 00:44:04   2025-01-01 00:46:01              1.0   \n",
      "3         2  2025-01-01 00:14:27   2025-01-01 00:20:01              3.0   \n",
      "4         2  2025-01-01 00:21:34   2025-01-01 00:25:06              3.0   \n",
      "5         2  2025-01-01 00:48:24   2025-01-01 01:08:26              2.0   \n",
      "6         1  2025-01-01 00:14:47   2025-01-01 00:16:15              0.0   \n",
      "7         1  2025-01-01 00:39:27   2025-01-01 00:51:51              0.0   \n",
      "8         1  2025-01-01 00:53:43   2025-01-01 01:13:23              0.0   \n",
      "9         2  2025-01-01 00:00:02   2025-01-01 00:09:36              1.0   \n",
      "\n",
      "   trip_distance  RatecodeID store_and_fwd_flag  PULocationID  DOLocationID  \\\n",
      "0           1.60         1.0                  N           229           237   \n",
      "1           0.50         1.0                  N           236           237   \n",
      "2           0.60         1.0                  N           141           141   \n",
      "3           0.52         1.0                  N           244           244   \n",
      "4           0.66         1.0                  N           244           116   \n",
      "5           2.63         1.0                  N           239            68   \n",
      "6           0.40         1.0                  N           170           170   \n",
      "7           1.60         1.0                  N           234           148   \n",
      "8           2.80         1.0                  N           148           170   \n",
      "9           1.71         1.0                  N           237           262   \n",
      "\n",
      "   payment_type  fare_amount  extra  mta_tax  tip_amount  tolls_amount  \\\n",
      "0             1         10.0    3.5      0.5        3.00           0.0   \n",
      "1             1          5.1    3.5      0.5        2.02           0.0   \n",
      "2             1          5.1    3.5      0.5        2.00           0.0   \n",
      "3             2          7.2    1.0      0.5        0.00           0.0   \n",
      "4             2          5.8    1.0      0.5        0.00           0.0   \n",
      "5             2         19.1    1.0      0.5        0.00           0.0   \n",
      "6             1          4.4    3.5      0.5        2.35           0.0   \n",
      "7             1         12.1    3.5      0.5        2.00           0.0   \n",
      "8             1         19.1    3.5      0.5        3.00           0.0   \n",
      "9             2         11.4    1.0      0.5        0.00           0.0   \n",
      "\n",
      "   improvement_surcharge  total_amount  congestion_surcharge  Airport_fee  \\\n",
      "0                    1.0         18.00                   2.5          0.0   \n",
      "1                    1.0         12.12                   2.5          0.0   \n",
      "2                    1.0         12.10                   2.5          0.0   \n",
      "3                    1.0          9.70                   0.0          0.0   \n",
      "4                    1.0          8.30                   0.0          0.0   \n",
      "5                    1.0         24.10                   2.5          0.0   \n",
      "6                    1.0         11.75                   2.5          0.0   \n",
      "7                    1.0         19.10                   2.5          0.0   \n",
      "8                    1.0         27.10                   2.5          0.0   \n",
      "9                    1.0         16.40                   2.5          0.0   \n",
      "\n",
      "   cbd_congestion_fee  \n",
      "0                 0.0  \n",
      "1                 0.0  \n",
      "2                 0.0  \n",
      "3                 0.0  \n",
      "4                 0.0  \n",
      "5                 0.0  \n",
      "6                 0.0  \n",
      "7                 0.0  \n",
      "8                 0.0  \n",
      "9                 0.0  \n"
     ]
    }
   ],
   "source": [
    "from etl_package_maiyo008.etl import Extract\n",
    "\n",
    "\n",
    "df = Extract.load_parquet('yellow_tripdata_2025-01.parquet')\n",
    "print(df.head(10))"
   ]
  },
  {
   "cell_type": "code",
   "execution_count": 22,
   "id": "46b3d93f",
   "metadata": {},
   "outputs": [
    {
     "name": "stdout",
     "output_type": "stream",
     "text": [
      "<class 'pandas.core.frame.DataFrame'>\n",
      "RangeIndex: 3475226 entries, 0 to 3475225\n",
      "Data columns (total 20 columns):\n",
      " #   Column                 Non-Null Count    Dtype         \n",
      "---  ------                 --------------    -----         \n",
      " 0   VendorID               3475226 non-null  int32         \n",
      " 1   tpep_pickup_datetime   3475226 non-null  datetime64[us]\n",
      " 2   tpep_dropoff_datetime  3475226 non-null  datetime64[us]\n",
      " 3   passenger_count        2935077 non-null  float64       \n",
      " 4   trip_distance          3475226 non-null  float64       \n",
      " 5   RatecodeID             2935077 non-null  float64       \n",
      " 6   store_and_fwd_flag     2935077 non-null  object        \n",
      " 7   PULocationID           3475226 non-null  int32         \n",
      " 8   DOLocationID           3475226 non-null  int32         \n",
      " 9   payment_type           3475226 non-null  int64         \n",
      " 10  fare_amount            3475226 non-null  float64       \n",
      " 11  extra                  3475226 non-null  float64       \n",
      " 12  mta_tax                3475226 non-null  float64       \n",
      " 13  tip_amount             3475226 non-null  float64       \n",
      " 14  tolls_amount           3475226 non-null  float64       \n",
      " 15  improvement_surcharge  3475226 non-null  float64       \n",
      " 16  total_amount           3475226 non-null  float64       \n",
      " 17  congestion_surcharge   2935077 non-null  float64       \n",
      " 18  Airport_fee            2935077 non-null  float64       \n",
      " 19  cbd_congestion_fee     3475226 non-null  float64       \n",
      "dtypes: datetime64[us](2), float64(13), int32(3), int64(1), object(1)\n",
      "memory usage: 490.5+ MB\n",
      "None\n"
     ]
    }
   ],
   "source": [
    "print(df.info(show_counts=True))"
   ]
  },
  {
   "cell_type": "markdown",
   "id": "2ad8a210",
   "metadata": {},
   "source": [
    "#### Check for null columns\n",
    "- From the top, we have analyzed the data by checking columns that have null values. This is essential since I want to have data without nulls on any column.\n",
    "- Empty columns can potentially give you a wrong result when analyzing data. For example when finding aggregates, we will consider null columns which give a wrong mean value.\n",
    "- We will deal with this by removing rows with empty columns. This is going to be okay, since we are removing only a few rows of the total rows.\n",
    "\n",
    "- From our data properties info, datetime values are of a datetime value"
   ]
  },
  {
   "cell_type": "code",
   "execution_count": 21,
   "id": "bb1e6fc8",
   "metadata": {},
   "outputs": [
    {
     "name": "stdout",
     "output_type": "stream",
     "text": [
      "   VendorID tpep_pickup_datetime tpep_dropoff_datetime  passenger_count  \\\n",
      "0         1  2025-01-01 00:18:38   2025-01-01 00:26:59              1.0   \n",
      "1         1  2025-01-01 00:32:40   2025-01-01 00:35:13              1.0   \n",
      "2         1  2025-01-01 00:44:04   2025-01-01 00:46:01              1.0   \n",
      "3         2  2025-01-01 00:14:27   2025-01-01 00:20:01              3.0   \n",
      "4         2  2025-01-01 00:21:34   2025-01-01 00:25:06              3.0   \n",
      "\n",
      "   trip_distance  RatecodeID store_and_fwd_flag  PULocationID  DOLocationID  \\\n",
      "0           1.60         1.0                  N           229           237   \n",
      "1           0.50         1.0                  N           236           237   \n",
      "2           0.60         1.0                  N           141           141   \n",
      "3           0.52         1.0                  N           244           244   \n",
      "4           0.66         1.0                  N           244           116   \n",
      "\n",
      "   payment_type  fare_amount  extra  mta_tax  tip_amount  tolls_amount  \\\n",
      "0             1         10.0    3.5      0.5        3.00           0.0   \n",
      "1             1          5.1    3.5      0.5        2.02           0.0   \n",
      "2             1          5.1    3.5      0.5        2.00           0.0   \n",
      "3             2          7.2    1.0      0.5        0.00           0.0   \n",
      "4             2          5.8    1.0      0.5        0.00           0.0   \n",
      "\n",
      "   improvement_surcharge  total_amount  congestion_surcharge  Airport_fee  \\\n",
      "0                    1.0         18.00                   2.5          0.0   \n",
      "1                    1.0         12.12                   2.5          0.0   \n",
      "2                    1.0         12.10                   2.5          0.0   \n",
      "3                    1.0          9.70                   0.0          0.0   \n",
      "4                    1.0          8.30                   0.0          0.0   \n",
      "\n",
      "   cbd_congestion_fee  \n",
      "0                 0.0  \n",
      "1                 0.0  \n",
      "2                 0.0  \n",
      "3                 0.0  \n",
      "4                 0.0  \n"
     ]
    }
   ],
   "source": [
    "print(df.head(5))"
   ]
  },
  {
   "cell_type": "code",
   "execution_count": 23,
   "id": "2c7b5c60",
   "metadata": {},
   "outputs": [
    {
     "name": "stdout",
     "output_type": "stream",
     "text": [
      "         VendorID tpep_pickup_datetime tpep_dropoff_datetime  passenger_count  \\\n",
      "3475206         2  2025-01-31 23:24:52   2025-01-31 23:32:53              NaN   \n",
      "3475207         2  2025-01-31 23:06:34   2025-01-31 23:19:12              NaN   \n",
      "3475208         2  2025-01-31 23:50:58   2025-02-01 00:06:24              NaN   \n",
      "3475209         2  2025-01-31 23:11:42   2025-01-31 23:18:30              NaN   \n",
      "3475210         2  2025-01-31 23:32:42   2025-01-31 23:41:35              NaN   \n",
      "3475211         2  2025-01-31 23:26:24   2025-01-31 23:52:54              NaN   \n",
      "3475212         2  2025-01-31 23:00:46   2025-01-31 23:12:08              NaN   \n",
      "3475213         2  2025-01-31 23:23:37   2025-01-31 23:37:01              NaN   \n",
      "3475214         2  2025-01-31 23:52:34   2025-02-01 00:03:35              NaN   \n",
      "3475215         2  2025-01-31 23:32:04   2025-01-31 23:44:07              NaN   \n",
      "3475216         2  2025-01-31 23:58:20   2025-02-01 00:04:17              NaN   \n",
      "3475217         2  2025-01-31 23:38:25   2025-01-31 23:46:15              NaN   \n",
      "3475218         2  2025-01-31 23:26:03   2025-01-31 23:34:29              NaN   \n",
      "3475219         2  2025-01-31 23:21:00   2025-01-31 23:36:00              NaN   \n",
      "3475220         2  2025-01-31 23:26:31   2025-01-31 23:40:04              NaN   \n",
      "3475221         2  2025-01-31 23:01:48   2025-01-31 23:16:29              NaN   \n",
      "3475222         2  2025-01-31 23:50:29   2025-02-01 00:17:27              NaN   \n",
      "3475223         2  2025-01-31 23:26:59   2025-01-31 23:43:01              NaN   \n",
      "3475224         2  2025-01-31 23:14:34   2025-01-31 23:34:52              NaN   \n",
      "3475225         2  2025-01-31 23:56:42   2025-02-01 00:07:27              NaN   \n",
      "\n",
      "         trip_distance  RatecodeID store_and_fwd_flag  PULocationID  \\\n",
      "3475206           1.61         NaN               None            79   \n",
      "3475207           1.58         NaN               None           249   \n",
      "3475208           1.56         NaN               None           246   \n",
      "3475209           1.10         NaN               None            50   \n",
      "3475210           1.25         NaN               None           161   \n",
      "3475211           3.97         NaN               None           230   \n",
      "3475212           1.51         NaN               None           230   \n",
      "3475213           1.51         NaN               None           144   \n",
      "3475214           3.24         NaN               None            65   \n",
      "3475215           1.78         NaN               None            68   \n",
      "3475216           1.19         NaN               None           142   \n",
      "3475217           1.34         NaN               None           234   \n",
      "3475218           1.50         NaN               None            79   \n",
      "3475219           2.12         NaN               None           224   \n",
      "3475220           1.85         NaN               None            90   \n",
      "3475221           3.35         NaN               None            79   \n",
      "3475222           8.73         NaN               None           161   \n",
      "3475223           2.64         NaN               None           144   \n",
      "3475224           3.16         NaN               None           142   \n",
      "3475225           2.29         NaN               None           237   \n",
      "\n",
      "         DOLocationID  payment_type  fare_amount  extra  mta_tax  tip_amount  \\\n",
      "3475206           211             0        11.11    0.0      0.5         0.0   \n",
      "3475207           107             0        10.78    0.0      0.5         0.0   \n",
      "3475208           249             0         8.99    0.0      0.5         0.0   \n",
      "3475209           163             0         5.22    0.0      0.5         0.0   \n",
      "3475210            48             0         9.51    0.0      0.5         0.0   \n",
      "3475211           209             0        22.62    0.0      0.5         0.0   \n",
      "3475212           229             0        -4.75    0.0      0.5         0.0   \n",
      "3475213           231             0         8.60    0.0      0.5         0.0   \n",
      "3475214            80             0        17.34    0.0      0.5         0.0   \n",
      "3475215           230             0        12.14    0.0      0.5         0.0   \n",
      "3475216            50             0         7.65    0.0      0.5         0.0   \n",
      "3475217           100             0        -4.75    0.0      0.5         0.0   \n",
      "3475218            90             0         9.95    0.0      0.5         0.0   \n",
      "3475219           144             0        15.15    0.0      0.5         0.0   \n",
      "3475220           144             0        13.40    0.0      0.5         0.0   \n",
      "3475221           237             0        15.85    0.0      0.5         0.0   \n",
      "3475222           116             0        28.14    0.0      0.5         0.0   \n",
      "3475223           246             0        14.91    0.0      0.5         0.0   \n",
      "3475224           107             0        17.55    0.0      0.5         0.0   \n",
      "3475225           238             0        12.09    0.0      0.5         0.0   \n",
      "\n",
      "         tolls_amount  improvement_surcharge  total_amount  \\\n",
      "3475206           0.0                    1.0         15.86   \n",
      "3475207           0.0                    1.0         15.53   \n",
      "3475208           0.0                    1.0         13.74   \n",
      "3475209           0.0                    1.0          9.97   \n",
      "3475210           0.0                    1.0         14.26   \n",
      "3475211           0.0                    1.0         27.37   \n",
      "3475212           0.0                    1.0          2.07   \n",
      "3475213           0.0                    1.0         13.35   \n",
      "3475214           0.0                    1.0         18.84   \n",
      "3475215           0.0                    1.0         16.89   \n",
      "3475216           0.0                    1.0         12.40   \n",
      "3475217           0.0                    1.0          5.00   \n",
      "3475218           0.0                    1.0         14.70   \n",
      "3475219           0.0                    1.0         19.90   \n",
      "3475220           0.0                    1.0         18.15   \n",
      "3475221           0.0                    1.0         20.60   \n",
      "3475222           0.0                    1.0         32.89   \n",
      "3475223           0.0                    1.0         19.66   \n",
      "3475224           0.0                    1.0         22.30   \n",
      "3475225           0.0                    1.0         16.09   \n",
      "\n",
      "         congestion_surcharge  Airport_fee  cbd_congestion_fee  \n",
      "3475206                   NaN          NaN                0.75  \n",
      "3475207                   NaN          NaN                0.75  \n",
      "3475208                   NaN          NaN                0.75  \n",
      "3475209                   NaN          NaN                0.75  \n",
      "3475210                   NaN          NaN                0.75  \n",
      "3475211                   NaN          NaN                0.75  \n",
      "3475212                   NaN          NaN                0.75  \n",
      "3475213                   NaN          NaN                0.75  \n",
      "3475214                   NaN          NaN                0.00  \n",
      "3475215                   NaN          NaN                0.75  \n",
      "3475216                   NaN          NaN                0.75  \n",
      "3475217                   NaN          NaN                0.75  \n",
      "3475218                   NaN          NaN                0.75  \n",
      "3475219                   NaN          NaN                0.75  \n",
      "3475220                   NaN          NaN                0.75  \n",
      "3475221                   NaN          NaN                0.75  \n",
      "3475222                   NaN          NaN                0.75  \n",
      "3475223                   NaN          NaN                0.75  \n",
      "3475224                   NaN          NaN                0.75  \n",
      "3475225                   NaN          NaN                0.00  \n"
     ]
    }
   ],
   "source": [
    "print(df.tail(20))"
   ]
  },
  {
   "cell_type": "code",
   "execution_count": 25,
   "id": "94182d95",
   "metadata": {},
   "outputs": [
    {
     "name": "stdout",
     "output_type": "stream",
     "text": [
      "Index(['VendorID', 'tpep_pickup_datetime', 'tpep_dropoff_datetime',\n",
      "       'passenger_count', 'trip_distance', 'RatecodeID', 'store_and_fwd_flag',\n",
      "       'PULocationID', 'DOLocationID', 'payment_type', 'fare_amount', 'extra',\n",
      "       'mta_tax', 'tip_amount', 'tolls_amount', 'improvement_surcharge',\n",
      "       'total_amount', 'congestion_surcharge', 'Airport_fee',\n",
      "       'cbd_congestion_fee'],\n",
      "      dtype='object')\n"
     ]
    }
   ],
   "source": [
    "print(df.columns)"
   ]
  },
  {
   "cell_type": "code",
   "execution_count": 23,
   "id": "5d556a6f",
   "metadata": {},
   "outputs": [
    {
     "data": {
      "text/html": [
       "<div>\n",
       "<style scoped>\n",
       "    .dataframe tbody tr th:only-of-type {\n",
       "        vertical-align: middle;\n",
       "    }\n",
       "\n",
       "    .dataframe tbody tr th {\n",
       "        vertical-align: top;\n",
       "    }\n",
       "\n",
       "    .dataframe thead th {\n",
       "        text-align: right;\n",
       "    }\n",
       "</style>\n",
       "<table border=\"1\" class=\"dataframe\">\n",
       "  <thead>\n",
       "    <tr style=\"text-align: right;\">\n",
       "      <th></th>\n",
       "      <th>VendorID</th>\n",
       "      <th>tpep_pickup_datetime</th>\n",
       "      <th>tpep_dropoff_datetime</th>\n",
       "      <th>passenger_count</th>\n",
       "      <th>trip_distance</th>\n",
       "      <th>RatecodeID</th>\n",
       "      <th>store_and_fwd_flag</th>\n",
       "      <th>PULocationID</th>\n",
       "      <th>DOLocationID</th>\n",
       "      <th>payment_type</th>\n",
       "      <th>fare_amount</th>\n",
       "      <th>extra</th>\n",
       "      <th>mta_tax</th>\n",
       "      <th>tip_amount</th>\n",
       "      <th>tolls_amount</th>\n",
       "      <th>improvement_surcharge</th>\n",
       "      <th>total_amount</th>\n",
       "      <th>congestion_surcharge</th>\n",
       "      <th>Airport_fee</th>\n",
       "      <th>cbd_congestion_fee</th>\n",
       "    </tr>\n",
       "  </thead>\n",
       "  <tbody>\n",
       "  </tbody>\n",
       "</table>\n",
       "</div>"
      ],
      "text/plain": [
       "Empty DataFrame\n",
       "Columns: [VendorID, tpep_pickup_datetime, tpep_dropoff_datetime, passenger_count, trip_distance, RatecodeID, store_and_fwd_flag, PULocationID, DOLocationID, payment_type, fare_amount, extra, mta_tax, tip_amount, tolls_amount, improvement_surcharge, total_amount, congestion_surcharge, Airport_fee, cbd_congestion_fee]\n",
       "Index: []"
      ]
     },
     "execution_count": 23,
     "metadata": {},
     "output_type": "execute_result"
    }
   ],
   "source": [
    "df.head(n=0)"
   ]
  },
  {
   "cell_type": "code",
   "execution_count": 24,
   "id": "6f34e55b-fdbd-4ed0-8135-2fba0ee319d7",
   "metadata": {},
   "outputs": [
    {
     "data": {
      "text/plain": [
       "pandas.core.frame.DataFrame"
      ]
     },
     "execution_count": 24,
     "metadata": {},
     "output_type": "execute_result"
    }
   ],
   "source": [
    "type(df)"
   ]
  },
  {
   "cell_type": "code",
   "execution_count": null,
   "id": "a0aeab76-24e9-46fb-947d-baab6ae126bd",
   "metadata": {},
   "outputs": [],
   "source": []
  }
 ],
 "metadata": {
  "kernelspec": {
   "display_name": "Python 3 (ipykernel)",
   "language": "python",
   "name": "python3"
  },
  "language_info": {
   "codemirror_mode": {
    "name": "ipython",
    "version": 3
   },
   "file_extension": ".py",
   "mimetype": "text/x-python",
   "name": "python",
   "nbconvert_exporter": "python",
   "pygments_lexer": "ipython3",
   "version": "3.12.7"
  }
 },
 "nbformat": 4,
 "nbformat_minor": 5
}
